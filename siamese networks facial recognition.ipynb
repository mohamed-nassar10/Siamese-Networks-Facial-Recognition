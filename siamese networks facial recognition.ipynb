{
 "cells": [
  {
   "cell_type": "code",
   "execution_count": null,
   "metadata": {
    "colab": {},
    "colab_type": "code",
    "id": "oNI1zrsPLn3K"
   },
   "outputs": [],
   "source": [
    "# inspired by lazyprogrammer\n",
    "\n",
    "\n",
    "import numpy as np\n",
    "import matplotlib.pyplot as plt\n",
    "\n",
    "from datetime import datetime\n",
    "from glob import glob\n",
    "from collections import Counter\n",
    "\n",
    "from sklearn.utils import shuffle\n",
    "\n",
    "import torch\n",
    "import torch.nn as nn\n",
    "import torch.nn.functional as F\n",
    "\n",
    "import torchvision\n",
    "import torchvision.transforms as transforms\n"
   ]
  },
  {
   "cell_type": "code",
   "execution_count": null,
   "metadata": {
    "colab": {
     "base_uri": "https://localhost:8080/",
     "height": 136
    },
    "colab_type": "code",
    "id": "XKKMIhzlBBmE",
    "outputId": "a3b16c2f-0c39-41c1-dd70-4f206edc9afb"
   },
   "outputs": [
    {
     "name": "stdout",
     "output_type": "stream",
     "text": [
      "`%tensorflow_version` only switches the major version: 1.x or 2.x.\n",
      "You set: `2.x  # Colab only.`. This will be interpreted as: `2.x`.\n",
      "\n",
      "\n",
      "TensorFlow 2.x selected.\n",
      "2.1.0\n"
     ]
    },
    {
     "name": "stderr",
     "output_type": "stream",
     "text": [
      "Using TensorFlow backend.\n"
     ]
    }
   ],
   "source": [
    "try:\n",
    "  %tensorflow_version 2.x    # Colab only\n",
    "except Exception:\n",
    "  pass\n",
    "\n",
    "import tensorflow as tf\n",
    "print(tf.__version__)\n",
    "\n",
    "from keras.preprocessing import image"
   ]
  },
  {
   "cell_type": "code",
   "execution_count": null,
   "metadata": {
    "colab": {
     "base_uri": "https://localhost:8080/",
     "height": 224
    },
    "colab_type": "code",
    "id": "Nu4-H2RHLsj1",
    "outputId": "0d26df07-fe18-4157-86ce-bce49ac25af6"
   },
   "outputs": [
    {
     "name": "stdout",
     "output_type": "stream",
     "text": [
      "--2020-03-23 01:36:33--  http://vision.ucsd.edu/datasets/yale_face_dataset_original/yalefaces.zip\n",
      "Resolving vision.ucsd.edu (vision.ucsd.edu)... 132.239.95.98\n",
      "Connecting to vision.ucsd.edu (vision.ucsd.edu)|132.239.95.98|:80... connected.\n",
      "HTTP request sent, awaiting response... 200 OK\n",
      "Length: 6206308 (5.9M) [application/zip]\n",
      "Saving to: ‘yalefaces.zip’\n",
      "\n",
      "yalefaces.zip       100%[===================>]   5.92M   317KB/s    in 19s     \n",
      "\n",
      "2020-03-23 01:36:53 (312 KB/s) - ‘yalefaces.zip’ saved [6206308/6206308]\n",
      "\n"
     ]
    }
   ],
   "source": [
    "# data from: http://vision.ucsd.edu/content/yale-face-database\n",
    "!wget -nc http://vision.ucsd.edu/datasets/yale_face_dataset_original/yalefaces.zip"
   ]
  },
  {
   "cell_type": "code",
   "execution_count": null,
   "metadata": {
    "colab": {
     "base_uri": "https://localhost:8080/",
     "height": 1000
    },
    "colab_type": "code",
    "id": "cuks58mML08D",
    "outputId": "46689940-921e-40b2-ba35-184d89158a1c"
   },
   "outputs": [
    {
     "name": "stdout",
     "output_type": "stream",
     "text": [
      "Archive:  yalefaces.zip\n",
      "   creating: yalefaces/\n",
      "  inflating: yalefaces/Readme.txt    \n",
      "   creating: __MACOSX/\n",
      "   creating: __MACOSX/yalefaces/\n",
      "  inflating: __MACOSX/yalefaces/._Readme.txt  \n",
      "  inflating: yalefaces/subject01.gif  \n",
      "  inflating: yalefaces/subject01.glasses  \n",
      "  inflating: yalefaces/subject01.glasses.gif  \n",
      "  inflating: yalefaces/subject01.happy  \n",
      "  inflating: yalefaces/subject01.leftlight  \n",
      "  inflating: yalefaces/subject01.noglasses  \n",
      "  inflating: yalefaces/subject01.normal  \n",
      "  inflating: yalefaces/subject01.rightlight  \n",
      "  inflating: yalefaces/subject01.sad  \n",
      "  inflating: yalefaces/subject01.sleepy  \n",
      "  inflating: yalefaces/subject01.surprised  \n",
      "  inflating: yalefaces/subject01.wink  \n",
      "  inflating: yalefaces/subject02.centerlight  \n",
      "  inflating: yalefaces/subject02.glasses  \n",
      "  inflating: yalefaces/subject02.happy  \n",
      "  inflating: yalefaces/subject02.leftlight  \n",
      "  inflating: yalefaces/subject02.noglasses  \n",
      "  inflating: yalefaces/subject02.normal  \n",
      "  inflating: yalefaces/subject02.rightlight  \n",
      "  inflating: yalefaces/subject02.sad  \n",
      "  inflating: yalefaces/subject02.sleepy  \n",
      "  inflating: yalefaces/subject02.surprised  \n",
      "  inflating: yalefaces/subject02.wink  \n",
      "  inflating: yalefaces/subject03.centerlight  \n",
      "  inflating: yalefaces/subject03.glasses  \n",
      "  inflating: yalefaces/subject03.happy  \n",
      "  inflating: yalefaces/subject03.leftlight  \n",
      "  inflating: yalefaces/subject03.noglasses  \n",
      "  inflating: yalefaces/subject03.normal  \n",
      "  inflating: yalefaces/subject03.rightlight  \n",
      "  inflating: yalefaces/subject03.sad  \n",
      "  inflating: yalefaces/subject03.sleepy  \n",
      "  inflating: yalefaces/subject03.surprised  \n",
      "  inflating: yalefaces/subject03.wink  \n",
      "  inflating: yalefaces/subject04.centerlight  \n",
      "  inflating: yalefaces/subject04.glasses  \n",
      "  inflating: yalefaces/subject04.happy  \n",
      "  inflating: yalefaces/subject04.leftlight  \n",
      "  inflating: yalefaces/subject04.noglasses  \n",
      "  inflating: yalefaces/subject04.normal  \n",
      "  inflating: yalefaces/subject04.rightlight  \n",
      "  inflating: yalefaces/subject04.sad  \n",
      "  inflating: yalefaces/subject04.sleepy  \n",
      "  inflating: yalefaces/subject04.surprised  \n",
      "  inflating: yalefaces/subject04.wink  \n",
      "  inflating: yalefaces/subject05.centerlight  \n",
      "  inflating: yalefaces/subject05.glasses  \n",
      "  inflating: yalefaces/subject05.happy  \n",
      "  inflating: yalefaces/subject05.leftlight  \n",
      "  inflating: yalefaces/subject05.noglasses  \n",
      "  inflating: yalefaces/subject05.normal  \n",
      "  inflating: yalefaces/subject05.rightlight  \n",
      "  inflating: yalefaces/subject05.sad  \n",
      "  inflating: yalefaces/subject05.sleepy  \n",
      "  inflating: yalefaces/subject05.surprised  \n",
      "  inflating: yalefaces/subject05.wink  \n",
      "  inflating: yalefaces/subject06.centerlight  \n",
      "  inflating: yalefaces/subject06.glasses  \n",
      "  inflating: yalefaces/subject06.happy  \n",
      "  inflating: yalefaces/subject06.leftlight  \n",
      "  inflating: yalefaces/subject06.noglasses  \n",
      "  inflating: yalefaces/subject06.normal  \n",
      "  inflating: yalefaces/subject06.rightlight  \n",
      "  inflating: yalefaces/subject06.sad  \n",
      "  inflating: yalefaces/subject06.sleepy  \n",
      "  inflating: yalefaces/subject06.surprised  \n",
      "  inflating: yalefaces/subject06.wink  \n",
      "  inflating: yalefaces/subject07.centerlight  \n",
      "  inflating: yalefaces/subject07.glasses  \n",
      "  inflating: yalefaces/subject07.happy  \n",
      "  inflating: yalefaces/subject07.leftlight  \n",
      "  inflating: yalefaces/subject07.noglasses  \n",
      "  inflating: yalefaces/subject07.normal  \n",
      "  inflating: yalefaces/subject07.rightlight  \n",
      "  inflating: yalefaces/subject07.sad  \n",
      "  inflating: yalefaces/subject07.sleepy  \n",
      "  inflating: yalefaces/subject07.surprised  \n",
      "  inflating: yalefaces/subject07.wink  \n",
      "  inflating: yalefaces/subject08.centerlight  \n",
      "  inflating: yalefaces/subject08.glasses  \n",
      "  inflating: yalefaces/subject08.happy  \n",
      "  inflating: yalefaces/subject08.leftlight  \n",
      "  inflating: yalefaces/subject08.noglasses  \n",
      "  inflating: yalefaces/subject08.normal  \n",
      "  inflating: yalefaces/subject08.rightlight  \n",
      "  inflating: yalefaces/subject08.sad  \n",
      "  inflating: yalefaces/subject08.sleepy  \n",
      "  inflating: yalefaces/subject08.surprised  \n",
      "  inflating: yalefaces/subject08.wink  \n",
      "  inflating: yalefaces/subject09.centerlight  \n",
      "  inflating: yalefaces/subject09.glasses  \n",
      "  inflating: yalefaces/subject09.happy  \n",
      "  inflating: yalefaces/subject09.leftlight  \n",
      "  inflating: yalefaces/subject09.noglasses  \n",
      "  inflating: yalefaces/subject09.normal  \n",
      "  inflating: yalefaces/subject09.rightlight  \n",
      "  inflating: yalefaces/subject09.sad  \n",
      "  inflating: yalefaces/subject09.sleepy  \n",
      "  inflating: yalefaces/subject09.surprised  \n",
      "  inflating: yalefaces/subject09.wink  \n",
      "  inflating: yalefaces/subject10.centerlight  \n",
      "  inflating: yalefaces/subject10.glasses  \n",
      "  inflating: yalefaces/subject10.happy  \n",
      "  inflating: yalefaces/subject10.leftlight  \n",
      "  inflating: yalefaces/subject10.noglasses  \n",
      "  inflating: yalefaces/subject10.normal  \n",
      "  inflating: yalefaces/subject10.rightlight  \n",
      "  inflating: yalefaces/subject10.sad  \n",
      "  inflating: yalefaces/subject10.sleepy  \n",
      "  inflating: yalefaces/subject10.surprised  \n",
      "  inflating: yalefaces/subject10.wink  \n",
      "  inflating: yalefaces/subject11.centerlight  \n",
      "  inflating: yalefaces/subject11.glasses  \n",
      "  inflating: yalefaces/subject11.happy  \n",
      "  inflating: yalefaces/subject11.leftlight  \n",
      "  inflating: yalefaces/subject11.noglasses  \n",
      "  inflating: yalefaces/subject11.normal  \n",
      "  inflating: yalefaces/subject11.rightlight  \n",
      "  inflating: yalefaces/subject11.sad  \n",
      "  inflating: yalefaces/subject11.sleepy  \n",
      "  inflating: yalefaces/subject11.surprised  \n",
      "  inflating: yalefaces/subject11.wink  \n",
      "  inflating: yalefaces/subject12.centerlight  \n",
      "  inflating: yalefaces/subject12.glasses  \n",
      "  inflating: yalefaces/subject12.happy  \n",
      "  inflating: yalefaces/subject12.leftlight  \n",
      "  inflating: yalefaces/subject12.noglasses  \n",
      "  inflating: yalefaces/subject12.normal  \n",
      "  inflating: yalefaces/subject12.rightlight  \n",
      "  inflating: yalefaces/subject12.sad  \n",
      "  inflating: yalefaces/subject12.sleepy  \n",
      "  inflating: yalefaces/subject12.surprised  \n",
      "  inflating: yalefaces/subject12.wink  \n",
      "  inflating: yalefaces/subject13.centerlight  \n",
      "  inflating: yalefaces/subject13.glasses  \n",
      "  inflating: yalefaces/subject13.happy  \n",
      "  inflating: yalefaces/subject13.leftlight  \n",
      "  inflating: yalefaces/subject13.noglasses  \n",
      "  inflating: yalefaces/subject13.normal  \n",
      "  inflating: yalefaces/subject13.rightlight  \n",
      "  inflating: yalefaces/subject13.sad  \n",
      "  inflating: yalefaces/subject13.sleepy  \n",
      "  inflating: yalefaces/subject13.surprised  \n",
      "  inflating: yalefaces/subject13.wink  \n",
      "  inflating: yalefaces/subject14.centerlight  \n",
      "  inflating: yalefaces/subject14.glasses  \n",
      "  inflating: yalefaces/subject14.happy  \n",
      "  inflating: yalefaces/subject14.leftlight  \n",
      "  inflating: yalefaces/subject14.noglasses  \n",
      "  inflating: yalefaces/subject14.normal  \n",
      "  inflating: yalefaces/subject14.rightlight  \n",
      "  inflating: yalefaces/subject14.sad  \n",
      "  inflating: yalefaces/subject14.sleepy  \n",
      "  inflating: yalefaces/subject14.surprised  \n",
      "  inflating: yalefaces/subject14.wink  \n",
      "  inflating: yalefaces/subject15.centerlight  \n",
      "  inflating: yalefaces/subject15.glasses  \n",
      "  inflating: yalefaces/subject15.happy  \n",
      "  inflating: yalefaces/subject15.leftlight  \n",
      "  inflating: yalefaces/subject15.noglasses  \n",
      "  inflating: yalefaces/subject15.normal  \n",
      "  inflating: yalefaces/subject15.rightlight  \n",
      "  inflating: yalefaces/subject15.sad  \n",
      "  inflating: yalefaces/subject15.sleepy  \n",
      "  inflating: yalefaces/subject15.surprised  \n",
      "  inflating: yalefaces/subject15.wink  \n"
     ]
    }
   ],
   "source": [
    "!unzip yalefaces.zip"
   ]
  },
  {
   "cell_type": "code",
   "execution_count": null,
   "metadata": {
    "colab": {},
    "colab_type": "code",
    "id": "b6HViln_L6l-"
   },
   "outputs": [],
   "source": [
    "files = glob('yalefaces/subject*')"
   ]
  },
  {
   "cell_type": "code",
   "execution_count": null,
   "metadata": {
    "colab": {},
    "colab_type": "code",
    "id": "QvsaOpJ5L-HC"
   },
   "outputs": [],
   "source": [
    "np.random.shuffle(files)"
   ]
  },
  {
   "cell_type": "code",
   "execution_count": null,
   "metadata": {
    "colab": {
     "base_uri": "https://localhost:8080/",
     "height": 34
    },
    "colab_type": "code",
    "id": "7Az8p-JhMAD2",
    "outputId": "40695b4a-47b5-4bc5-fef5-da7bc234eb42"
   },
   "outputs": [
    {
     "data": {
      "text/plain": [
       "166"
      ]
     },
     "execution_count": 7,
     "metadata": {
      "tags": []
     },
     "output_type": "execute_result"
    }
   ],
   "source": [
    "N = len(files)\n",
    "N"
   ]
  },
  {
   "cell_type": "code",
   "execution_count": null,
   "metadata": {
    "colab": {},
    "colab_type": "code",
    "id": "OzI2Ik24MClN"
   },
   "outputs": [],
   "source": [
    "H, W = 60, 80\n",
    "\n",
    "def load_img(filepath):\n",
    "  img = image.img_to_array(image.load_img(filepath, target_size=[H, W])).astype('uint8')\n",
    "  return img\n",
    "  "
   ]
  },
  {
   "cell_type": "code",
   "execution_count": null,
   "metadata": {
    "colab": {
     "base_uri": "https://localhost:8080/",
     "height": 268
    },
    "colab_type": "code",
    "id": "Nh9bPo2xMHGa",
    "outputId": "ffaae629-4b00-4e84-d9ec-b75351787d68"
   },
   "outputs": [
    {
     "data": {
      "image/png": "[encoded data removed]",
      "text/plain": [
       "<Figure size 432x288 with 1 Axes>"
      ]
     },
     "metadata": {
      "tags": []
     },
     "output_type": "display_data"
    }
   ],
   "source": [
    "img = load_img(np.random.choice(files))\n",
    "\n",
    "plt.imshow(img)\n",
    "plt.show()"
   ]
  },
  {
   "cell_type": "code",
   "execution_count": null,
   "metadata": {
    "colab": {
     "base_uri": "https://localhost:8080/",
     "height": 34
    },
    "colab_type": "code",
    "id": "LVNB5Vvz0FkI",
    "outputId": "2cbe491b-363b-4260-87f2-f913e0e2f156"
   },
   "outputs": [
    {
     "data": {
      "text/plain": [
       "(60, 80, 3)"
      ]
     },
     "execution_count": 10,
     "metadata": {
      "tags": []
     },
     "output_type": "execute_result"
    }
   ],
   "source": [
    "img.shape"
   ]
  },
  {
   "cell_type": "code",
   "execution_count": null,
   "metadata": {
    "colab": {
     "base_uri": "https://localhost:8080/",
     "height": 34
    },
    "colab_type": "code",
    "id": "lD-8V0tDD4HU",
    "outputId": "5f1f0c58-8306-472d-9477-086d3e84659a"
   },
   "outputs": [
    {
     "data": {
      "text/plain": [
       "255"
      ]
     },
     "execution_count": 11,
     "metadata": {
      "tags": []
     },
     "output_type": "execute_result"
    }
   ],
   "source": [
    "img.max()"
   ]
  },
  {
   "cell_type": "code",
   "execution_count": null,
   "metadata": {
    "colab": {},
    "colab_type": "code",
    "id": "xvZEhGbJ3OXM"
   },
   "outputs": [],
   "source": [
    "def to_grayscale(img):\n",
    "  return img.mean(axis=-1)"
   ]
  },
  {
   "cell_type": "code",
   "execution_count": null,
   "metadata": {
    "colab": {
     "base_uri": "https://localhost:8080/",
     "height": 34
    },
    "colab_type": "code",
    "id": "sARNyFZ23gB6",
    "outputId": "dfb74248-7cb8-4350-82e3-a52e7c948bc2"
   },
   "outputs": [
    {
     "data": {
      "text/plain": [
       "(True, True)"
      ]
     },
     "execution_count": 13,
     "metadata": {
      "tags": []
     },
     "output_type": "execute_result"
    }
   ],
   "source": [
    "np.all(img[:,:,0] == img[:,:,1]), np.all(img[:,:,0] == img[:,:,2])"
   ]
  },
  {
   "cell_type": "code",
   "execution_count": null,
   "metadata": {
    "colab": {},
    "colab_type": "code",
    "id": "Vk1hHZ1xMIMO"
   },
   "outputs": [],
   "source": [
    "shape = (N, H, W)\n",
    "images = np.zeros(shape)\n",
    "\n",
    "for i, f in enumerate(files):\n",
    "  img = to_grayscale(load_img(f)) / 255.\n",
    "  images[i] = img\n",
    "  "
   ]
  },
  {
   "cell_type": "code",
   "execution_count": null,
   "metadata": {
    "colab": {},
    "colab_type": "code",
    "id": "dfb3diGjMLsb"
   },
   "outputs": [],
   "source": [
    "# filenames are something like 'subject13.happy'\n",
    "\n",
    "labels = np.zeros(N)\n",
    "\n",
    "\n",
    "for i, f in enumerate(files):\n",
    "\n",
    "  filename = f.rsplit('/', 1)[-1]\n",
    "  subject_num = filename.split('.', 1)[0]\n",
    "\n",
    "  idx = int(subject_num.replace('subject', '')) - 1    # subtract 1 since the filenames start from 1\n",
    "  labels[i] = idx\n"
   ]
  },
  {
   "cell_type": "code",
   "execution_count": null,
   "metadata": {
    "colab": {
     "base_uri": "https://localhost:8080/",
     "height": 272
    },
    "colab_type": "code",
    "id": "IJKE3QG9MMOo",
    "outputId": "2962c7fa-eac6-47df-ff71-669d03e8358a"
   },
   "outputs": [
    {
     "data": {
      "text/plain": [
       "Counter({0.0: 12,\n",
       "         1.0: 11,\n",
       "         2.0: 11,\n",
       "         3.0: 11,\n",
       "         4.0: 11,\n",
       "         5.0: 11,\n",
       "         6.0: 11,\n",
       "         7.0: 11,\n",
       "         8.0: 11,\n",
       "         9.0: 11,\n",
       "         10.0: 11,\n",
       "         11.0: 11,\n",
       "         12.0: 11,\n",
       "         13.0: 11,\n",
       "         14.0: 11})"
      ]
     },
     "execution_count": 117,
     "metadata": {
      "tags": []
     },
     "output_type": "execute_result"
    }
   ],
   "source": [
    "label_count = Counter(labels)\n",
    "label_count"
   ]
  },
  {
   "cell_type": "code",
   "execution_count": null,
   "metadata": {
    "colab": {},
    "colab_type": "code",
    "id": "FvWEcWTVMPSd"
   },
   "outputs": [],
   "source": [
    "unique_labels = set(label_count.keys())"
   ]
  },
  {
   "cell_type": "code",
   "execution_count": null,
   "metadata": {
    "colab": {},
    "colab_type": "code",
    "id": "TCCQ85zhMRZ7"
   },
   "outputs": [],
   "source": [
    "n_subjects = len(label_count)"
   ]
  },
  {
   "cell_type": "code",
   "execution_count": null,
   "metadata": {
    "colab": {},
    "colab_type": "code",
    "id": "Q2yqQYV1MVC7"
   },
   "outputs": [],
   "source": [
    "# make a 3 images for each subject for test data\n",
    "\n",
    "n_test = 3 * n_subjects\n",
    "n_train = N - n_test"
   ]
  },
  {
   "cell_type": "code",
   "execution_count": null,
   "metadata": {
    "colab": {},
    "colab_type": "code",
    "id": "L0kIXBibMV0M"
   },
   "outputs": [],
   "source": [
    "train_images = np.zeros((n_train, H, W))\n",
    "train_labels = np.zeros(n_train)\n",
    "test_images = np.zeros((n_test, H, W))\n",
    "test_labels = np.zeros(n_test)"
   ]
  },
  {
   "cell_type": "code",
   "execution_count": null,
   "metadata": {
    "colab": {},
    "colab_type": "code",
    "id": "aYDM467aMYIp"
   },
   "outputs": [],
   "source": [
    "count_so_far = {}\n",
    "\n",
    "train_idx = 0\n",
    "test_idx = 0\n",
    "\n",
    "images, labels = shuffle(images, labels)\n",
    "\n",
    "\n",
    "for img, label in zip(images, labels):\n",
    "\n",
    "  count_so_far[label] = count_so_far.get(label, 0) + 1\n",
    "\n",
    "  if count_so_far[label] > 3:       # added 3 test images for this subject\n",
    "\n",
    "    train_images[train_idx] = img       # add the rest to train\n",
    "    train_labels[train_idx] = label\n",
    "    train_idx += 1\n",
    "\n",
    "\n",
    "  else:                             # add the first 3 images to test\n",
    "    test_images[test_idx] = img\n",
    "    test_labels[test_idx] = label\n",
    "    test_idx += 1\n",
    "\n",
    "    "
   ]
  },
  {
   "cell_type": "code",
   "execution_count": null,
   "metadata": {
    "colab": {},
    "colab_type": "code",
    "id": "yFSKaQcEMaaX"
   },
   "outputs": [],
   "source": [
    "train_label2idx = {}\n",
    "test_label2idx = {}\n",
    "\n",
    "for i, label in enumerate(train_labels):\n",
    "\n",
    "  if label not in train_label2idx:\n",
    "    train_label2idx[label] = [i]\n",
    "  else:\n",
    "    train_label2idx[label].append(i)\n",
    "\n",
    "\n",
    "\n",
    "for i, label in enumerate(test_labels):\n",
    "\n",
    "  if label not in test_label2idx:\n",
    "    test_label2idx[label] = [i]\n",
    "  else:\n",
    "    test_label2idx[label].append(i)\n",
    "\n",
    "    "
   ]
  },
  {
   "cell_type": "code",
   "execution_count": null,
   "metadata": {
    "colab": {},
    "colab_type": "code",
    "id": "E6CVUDVcMeVX"
   },
   "outputs": [],
   "source": [
    "train_positives = []\n",
    "train_negatives = []\n",
    "test_positives = []\n",
    "test_negatives = []\n",
    "\n",
    "for label, indices in train_label2idx.items():\n",
    "  other_indices = set(range(n_train)) - set(indices)  # all indices that do not belong to this subject\n",
    "\n",
    "  for i, idx1 in enumerate(indices):\n",
    "    for idx2 in indices[i+1:]:\n",
    "      train_positives.append((idx1, idx2))\n",
    "\n",
    "    for idx2 in other_indices:\n",
    "      train_negatives.append((idx1, idx2))\n",
    "\n",
    "\n",
    "for label, indices in test_label2idx.items():\n",
    "  other_indices = set(range(n_test)) - set(indices)  # all indices that do NOT belong to this subject\n",
    "\n",
    "  for i, idx1 in enumerate(indices):\n",
    "    for idx2 in indices[i+1:]:\n",
    "      test_positives.append((idx1, idx2))\n",
    "\n",
    "    for idx2 in other_indices:\n",
    "      test_negatives.append((idx1, idx2))\n",
    "\n",
    "      "
   ]
  },
  {
   "cell_type": "code",
   "execution_count": null,
   "metadata": {
    "colab": {},
    "colab_type": "code",
    "id": "KoetxA3YMe2f"
   },
   "outputs": [],
   "source": [
    "batch_size = 64\n",
    "\n",
    "def train_generator():\n",
    "  '''\n",
    "  for each batch, send 1 pair of each subject and the same number of non-matching pairs\n",
    "  '''\n",
    "\n",
    "  n_batches = int(np.ceil(len(train_positives) / batch_size))\n",
    "  \n",
    "  while True:\n",
    "    np.random.shuffle(train_positives)\n",
    "    n_samples = batch_size * 2\n",
    "    shape = (n_samples, H, W)\n",
    "    x_batch_1 = np.zeros(shape)\n",
    "    x_batch_2 = np.zeros(shape)\n",
    "    y_batch = np.zeros(n_samples)\n",
    "\n",
    "    for i in range(n_batches):\n",
    "      pos_batch_indices = train_positives[i * batch_size: (i + 1) * batch_size]\n",
    "\n",
    "      j = 0\n",
    "      for idx1, idx2 in pos_batch_indices:  # fill up x_batch and y_batch\n",
    "        x_batch_1[j] = train_images[idx1]\n",
    "        x_batch_2[j] = train_images[idx2]\n",
    "        y_batch[j] = 1 # match\n",
    "        j += 1\n",
    "\n",
    "      neg_indices = np.random.choice(len(train_negatives), size=len(pos_batch_indices), replace=False)\n",
    "      for neg in neg_indices:\n",
    "        idx1, idx2 = train_negatives[neg]\n",
    "        x_batch_1[j] = train_images[idx1]\n",
    "        x_batch_2[j] = train_images[idx2]\n",
    "        y_batch[j] = 0 # non-match\n",
    "        j += 1\n",
    "\n",
    "\n",
    "      x1 = x_batch_1[:j]\n",
    "      x2 = x_batch_2[:j]\n",
    "      y = y_batch[:j]\n",
    "\n",
    "      x1 = x1.reshape(-1, 1, H, W)\n",
    "      x2 = x2.reshape(-1, 1, H, W)\n",
    "\n",
    "      x1 = torch.from_numpy(x1).float()\n",
    "      x2 = torch.from_numpy(x2).float()\n",
    "      y = torch.from_numpy(y).float()\n",
    "\n",
    "\n",
    "      yield [x1, x2], y\n",
    "\n"
   ]
  },
  {
   "cell_type": "code",
   "execution_count": null,
   "metadata": {
    "colab": {},
    "colab_type": "code",
    "id": "IM4rn84-Mj28"
   },
   "outputs": [],
   "source": [
    "def test_generator():\n",
    "  '''\n",
    "  same thing as the train generator except no shuffling and it uses the test set\n",
    "  '''\n",
    "\n",
    "  n_batches = int(np.ceil(len(test_positives) / batch_size))\n",
    "\n",
    "  while True:\n",
    "    n_samples = batch_size * 2\n",
    "    shape = (n_samples, H, W)\n",
    "    x_batch_1 = np.zeros(shape)\n",
    "    x_batch_2 = np.zeros(shape)\n",
    "    y_batch = np.zeros(n_samples)\n",
    "\n",
    "    for i in range(n_batches):\n",
    "      pos_batch_indices = test_positives[i * batch_size: (i + 1) * batch_size]\n",
    "\n",
    "      j = 0\n",
    "      for idx1, idx2 in pos_batch_indices:  # fill up x_batch and y_batch\n",
    "        x_batch_1[j] = test_images[idx1]\n",
    "        x_batch_2[j] = test_images[idx2]\n",
    "        y_batch[j] = 1 # match\n",
    "        j += 1\n",
    "\n",
    "      neg_indices = np.random.choice(len(test_negatives), size=len(pos_batch_indices), replace=False)\n",
    "      for neg in neg_indices:\n",
    "        idx1, idx2 = test_negatives[neg]\n",
    "        x_batch_1[j] = test_images[idx1]\n",
    "        x_batch_2[j] = test_images[idx2]\n",
    "        y_batch[j] = 0 # non-match\n",
    "        j += 1\n",
    "\n",
    "      x1 = x_batch_1[:j]\n",
    "      x2 = x_batch_2[:j]\n",
    "      y = y_batch[:j]\n",
    "\n",
    "      x1 = x1.reshape(-1, 1, H, W)\n",
    "      x2 = x2.reshape(-1, 1, H, W)\n",
    "\n",
    "      x1 = torch.from_numpy(x1).float()\n",
    "      x2 = torch.from_numpy(x2).float()\n",
    "      y = torch.from_numpy(y).float()\n",
    "\n",
    "\n",
    "      yield [x1, x2], y\n",
    "\n",
    "      "
   ]
  },
  {
   "cell_type": "code",
   "execution_count": null,
   "metadata": {
    "colab": {},
    "colab_type": "code",
    "id": "ntJxbO3cMn5k"
   },
   "outputs": [],
   "source": [
    "class SiameseNN(nn.Module):\n",
    "\n",
    "  def __init__(self, feature_dim):\n",
    "    super(SiameseNN, self).__init__()\n",
    "\n",
    "    self.cnn = nn.Sequential(\n",
    "        nn.Conv2d(1, 32, kernel_size=3),\n",
    "        nn.BatchNorm2d(32),\n",
    "        nn.ReLU(),\n",
    "        nn.MaxPool2d(2),\n",
    "        nn.Conv2d(32, 64, kernel_size=3),\n",
    "        nn.BatchNorm2d(64),\n",
    "        nn.ReLU(),\n",
    "        nn.MaxPool2d(2),\n",
    "        nn.Flatten(),\n",
    "        nn.Linear(13*18*64, 128), # 60>29>13,80>39>18\n",
    "        nn.ReLU(),\n",
    "        nn.Linear(128, feature_dim),\n",
    "    )\n",
    "\n",
    "\n",
    "  def forward(self, im1, im2):\n",
    "    feat1 = self.cnn(im1)\n",
    "    feat2 = self.cnn(im2)\n",
    "\n",
    "    return torch.norm(feat1 - feat2, dim=-1)    # Euclidean distance between feature 1 and feature 2\n",
    "\n",
    "    "
   ]
  },
  {
   "cell_type": "code",
   "execution_count": null,
   "metadata": {
    "colab": {},
    "colab_type": "code",
    "id": "MxgOkxCn-oaX"
   },
   "outputs": [],
   "source": [
    "model = SiameseNN(50)"
   ]
  },
  {
   "cell_type": "code",
   "execution_count": null,
   "metadata": {
    "colab": {
     "base_uri": "https://localhost:8080/",
     "height": 326
    },
    "colab_type": "code",
    "id": "_XIc8gmq-nNn",
    "outputId": "1b46033f-7801-4069-9279-67cc6f142bc3"
   },
   "outputs": [
    {
     "name": "stdout",
     "output_type": "stream",
     "text": [
      "cuda:0\n"
     ]
    },
    {
     "data": {
      "text/plain": [
       "SiameseNN(\n",
       "  (cnn): Sequential(\n",
       "    (0): Conv2d(1, 32, kernel_size=(3, 3), stride=(1, 1))\n",
       "    (1): BatchNorm2d(32, eps=1e-05, momentum=0.1, affine=True, track_running_stats=True)\n",
       "    (2): ReLU()\n",
       "    (3): MaxPool2d(kernel_size=2, stride=2, padding=0, dilation=1, ceil_mode=False)\n",
       "    (4): Conv2d(32, 64, kernel_size=(3, 3), stride=(1, 1))\n",
       "    (5): BatchNorm2d(64, eps=1e-05, momentum=0.1, affine=True, track_running_stats=True)\n",
       "    (6): ReLU()\n",
       "    (7): MaxPool2d(kernel_size=2, stride=2, padding=0, dilation=1, ceil_mode=False)\n",
       "    (8): Flatten()\n",
       "    (9): Linear(in_features=14976, out_features=128, bias=True)\n",
       "    (10): ReLU()\n",
       "    (11): Linear(in_features=128, out_features=50, bias=True)\n",
       "  )\n",
       ")"
      ]
     },
     "execution_count": 166,
     "metadata": {
      "tags": []
     },
     "output_type": "execute_result"
    }
   ],
   "source": [
    "device = torch.device(\"cuda:0\" if torch.cuda.is_available() else \"cpu\").to(device)\n",
    "print(device)\n",
    "\n",
    "model"
   ]
  },
  {
   "cell_type": "code",
   "execution_count": null,
   "metadata": {
    "colab": {},
    "colab_type": "code",
    "id": "W_Z7-WCV8-p8"
   },
   "outputs": [],
   "source": [
    "def contrastive_loss(y, t):\n",
    "\n",
    "  nonmatch = F.relu(1 - y)   # max(margin - y, 0)\n",
    "  \n",
    "  return torch.mean(t * y**2 + (1 - t) * nonmatch**2)\n",
    "\n",
    "  "
   ]
  },
  {
   "cell_type": "code",
   "execution_count": null,
   "metadata": {
    "colab": {},
    "colab_type": "code",
    "id": "ZHMpTbqy-hZb"
   },
   "outputs": [],
   "source": [
    "optimizer = torch.optim.Adam(model.parameters())"
   ]
  },
  {
   "cell_type": "code",
   "execution_count": null,
   "metadata": {
    "colab": {},
    "colab_type": "code",
    "id": "ropUpOkIM3zJ"
   },
   "outputs": [],
   "source": [
    "def batch_gd(\n",
    "    model,\n",
    "    criterion,\n",
    "    optimizer,\n",
    "    train_gen,\n",
    "    test_gen,\n",
    "    train_steps_per_epoch,\n",
    "    test_steps_per_epoch,\n",
    "    epochs):\n",
    "\n",
    "\n",
    "  train_losses = np.zeros(epochs)\n",
    "  test_losses = np.zeros(epochs)\n",
    "\n",
    "\n",
    "  for it in range(epochs):\n",
    "\n",
    "    t0 = datetime.now()\n",
    "    train_loss = []\n",
    "    steps = 0\n",
    "\n",
    "    for (x1, x2), targets in train_gen:\n",
    "      x1, x2, targets = x1.to(device), x2.to(device), targets.to(device)\n",
    "\n",
    "      optimizer.zero_grad()\n",
    "\n",
    "      outputs = model(x1, x2)\n",
    "      loss = criterion(outputs, targets)\n",
    "        \n",
    "      loss.backward()\n",
    "      optimizer.step()\n",
    "\n",
    "      train_loss.append(loss.item())\n",
    "\n",
    "      steps += 1\n",
    "      if steps >= train_steps_per_epoch:\n",
    "        break\n",
    "\n",
    "    train_loss = np.mean(train_loss)\n",
    "\n",
    "\n",
    "\n",
    "    test_loss = []\n",
    "    steps = 0\n",
    "\n",
    "    for (x1, x2), targets in test_gen:\n",
    "      x1, x2, targets = x1.to(device), x2.to(device), targets.to(device)\n",
    "      outputs = model(x1, x2)\n",
    "      loss = criterion(outputs, targets)\n",
    "      test_loss.append(loss.item())\n",
    "      steps += 1\n",
    "      if steps >= train_steps_per_epoch:\n",
    "        break\n",
    "\n",
    "    test_loss = np.mean(test_loss)\n",
    "\n",
    "\n",
    "    train_losses[it] = train_loss\n",
    "    test_losses[it] = test_loss\n",
    "    \n",
    "    dt = datetime.now() - t0\n",
    "\n",
    "    print(f'Epoch {it+1}/{epochs}, Train Loss: {train_loss:.4f}, Test Loss: {test_loss:.4f}, Duration: {dt}')\n",
    "  \n",
    "\n",
    "  return train_losses, test_losses\n",
    "\n"
   ]
  },
  {
   "cell_type": "code",
   "execution_count": null,
   "metadata": {
    "colab": {
     "base_uri": "https://localhost:8080/",
     "height": 377
    },
    "colab_type": "code",
    "id": "2JDhHGES_35K",
    "outputId": "30d46694-b717-4397-824f-c13e68abb280"
   },
   "outputs": [
    {
     "name": "stdout",
     "output_type": "stream",
     "text": [
      "Epoch 1/20, Train Loss: 0.7117,       Test Loss: 0.3653, Duration: 0:00:00.297952\n",
      "Epoch 2/20, Train Loss: 0.2668,       Test Loss: 0.1721, Duration: 0:00:00.281114\n",
      "Epoch 3/20, Train Loss: 0.1457,       Test Loss: 0.0908, Duration: 0:00:00.279773\n",
      "Epoch 4/20, Train Loss: 0.0809,       Test Loss: 0.0909, Duration: 0:00:00.278836\n",
      "Epoch 5/20, Train Loss: 0.0612,       Test Loss: 0.0807, Duration: 0:00:00.279538\n",
      "Epoch 6/20, Train Loss: 0.0379,       Test Loss: 0.0740, Duration: 0:00:00.280684\n",
      "Epoch 7/20, Train Loss: 0.0237,       Test Loss: 0.0754, Duration: 0:00:00.280010\n",
      "Epoch 8/20, Train Loss: 0.0151,       Test Loss: 0.0809, Duration: 0:00:00.277751\n",
      "Epoch 9/20, Train Loss: 0.0148,       Test Loss: 0.0743, Duration: 0:00:00.277677\n",
      "Epoch 10/20, Train Loss: 0.0091,       Test Loss: 0.0822, Duration: 0:00:00.278951\n",
      "Epoch 11/20, Train Loss: 0.0063,       Test Loss: 0.0766, Duration: 0:00:00.286048\n",
      "Epoch 12/20, Train Loss: 0.0051,       Test Loss: 0.0805, Duration: 0:00:00.289161\n",
      "Epoch 13/20, Train Loss: 0.0044,       Test Loss: 0.0780, Duration: 0:00:00.288167\n",
      "Epoch 14/20, Train Loss: 0.0028,       Test Loss: 0.0781, Duration: 0:00:00.290406\n",
      "Epoch 15/20, Train Loss: 0.0025,       Test Loss: 0.0736, Duration: 0:00:00.277411\n",
      "Epoch 16/20, Train Loss: 0.0024,       Test Loss: 0.0796, Duration: 0:00:00.278943\n",
      "Epoch 17/20, Train Loss: 0.0018,       Test Loss: 0.0780, Duration: 0:00:00.278641\n",
      "Epoch 18/20, Train Loss: 0.0013,       Test Loss: 0.0733, Duration: 0:00:00.278641\n",
      "Epoch 19/20, Train Loss: 0.0010,       Test Loss: 0.0754, Duration: 0:00:00.277715\n",
      "Epoch 20/20, Train Loss: 0.0014,       Test Loss: 0.0773, Duration: 0:00:00.278941\n"
     ]
    }
   ],
   "source": [
    "train_steps = int(np.ceil(len(train_positives) / batch_size))\n",
    "test_steps = int(np.ceil(len(test_positives) / batch_size))\n",
    "\n",
    "train_losses, test_losses = batch_gd(\n",
    "    model,\n",
    "    contrastive_loss,\n",
    "    optimizer,\n",
    "    train_generator(),\n",
    "    test_generator(),\n",
    "    train_steps,\n",
    "    test_steps,\n",
    "    epochs=20)\n",
    "    "
   ]
  },
  {
   "cell_type": "code",
   "execution_count": null,
   "metadata": {
    "colab": {
     "base_uri": "https://localhost:8080/",
     "height": 265
    },
    "colab_type": "code",
    "id": "6Q1-vyJjM_tM",
    "outputId": "26da7929-1c00-40f5-b83f-8dfe95c70da6"
   },
   "outputs": [
    {
     "data": {
      "image/png": "[encoded data removed]",
      "text/plain": [
       "<Figure size 432x288 with 1 Axes>"
      ]
     },
     "metadata": {
      "tags": []
     },
     "output_type": "display_data"
    }
   ],
   "source": [
    "plt.plot(train_losses, label='train loss')\n",
    "plt.plot(test_losses, label='test loss')\n",
    "plt.legend()\n",
    "plt.show()"
   ]
  },
  {
   "cell_type": "code",
   "execution_count": null,
   "metadata": {
    "colab": {},
    "colab_type": "code",
    "id": "aZstaBy4_TnG"
   },
   "outputs": [],
   "source": [
    "def predict(x1, x2):\n",
    "  \n",
    "  x1 = torch.from_numpy(x1).float().to(device)\n",
    "  x2 = torch.from_numpy(x2).float().to(device)\n",
    "\n",
    "  with torch.no_grad():\n",
    "    dist = model(x1, x2).cpu().numpy()\n",
    "    return dist.flatten()\n",
    "\n"
   ]
  },
  {
   "cell_type": "code",
   "execution_count": null,
   "metadata": {
    "colab": {},
    "colab_type": "code",
    "id": "863ihdnHNGlW"
   },
   "outputs": [],
   "source": [
    "# since dataset is imbalanced, report tp, tn, fp, fn\n",
    "\n",
    "\n",
    "\n",
    "def get_train_accuracy(threshold=0.85):\n",
    "\n",
    "  positive_distances = []\n",
    "  negative_distances = []\n",
    "\n",
    "  tp = 0\n",
    "  tn = 0\n",
    "  fp = 0\n",
    "  fn = 0\n",
    "\n",
    "  batch_size = 64\n",
    "\n",
    "  x_batch_1 = np.zeros((batch_size, 1, H, W))\n",
    "  x_batch_2 = np.zeros((batch_size, 1, H, W))\n",
    "\n",
    "  n_batches = int(np.ceil(len(train_positives) / batch_size))\n",
    "\n",
    "\n",
    "  for i in range(n_batches):\n",
    "    print(f\"pos batch: {i+1}/{n_batches}\")\n",
    "    pos_batch_indices = train_positives[i * batch_size: (i + 1) * batch_size]\n",
    "\n",
    "    j = 0\n",
    "    for idx1, idx2 in pos_batch_indices:    # fill up x_batch and y_batch\n",
    "      x_batch_1[j,0] = train_images[idx1]\n",
    "      x_batch_2[j,0] = train_images[idx2]\n",
    "      j += 1\n",
    "\n",
    "    x1 = x_batch_1[:j]\n",
    "    x2 = x_batch_2[:j]\n",
    "    distances = predict(x1, x2)\n",
    "    positive_distances += distances.tolist()\n",
    "\n",
    "    tp += (distances < threshold).sum()\n",
    "    fn += (distances > threshold).sum()\n",
    "\n",
    "\n",
    "\n",
    "  n_batches = int(np.ceil(len(train_negatives) / batch_size))\n",
    "\n",
    "  for i in range(n_batches):\n",
    "    print(f\"neg batch: {i+1}/{n_batches}\")\n",
    "    neg_batch_indices = train_negatives[i * batch_size: (i + 1) * batch_size]\n",
    "\n",
    "    j = 0\n",
    "    for idx1, idx2 in neg_batch_indices:    # fill up x_batch and y_batch\n",
    "      x_batch_1[j,0] = train_images[idx1]\n",
    "      x_batch_2[j,0] = train_images[idx2]\n",
    "      j += 1\n",
    "\n",
    "    x1 = x_batch_1[:j]\n",
    "    x2 = x_batch_2[:j]\n",
    "    distances = predict(x1, x2)\n",
    "    negative_distances += distances.tolist()\n",
    "\n",
    "    fp += (distances < threshold).sum()\n",
    "    tn += (distances > threshold).sum()\n",
    "\n",
    "\n",
    "  tpr = tp / (tp + fn)\n",
    "  tnr = tn / (tn + fp)\n",
    "\n",
    "  print(f\"sensitivity (tpr): {tpr}, specificity (tnr): {tnr}\")\n",
    "\n",
    "\n",
    "\n",
    "  plt.hist(negative_distances, bins=20, density=True, label='negative_distances')\n",
    "  plt.hist(positive_distances, bins=20, density=True, label='positive_distances')\n",
    "  plt.legend()\n",
    "  plt.show()\n",
    "  "
   ]
  },
  {
   "cell_type": "code",
   "execution_count": null,
   "metadata": {
    "colab": {},
    "colab_type": "code",
    "id": "fcdNkabjNJVn"
   },
   "outputs": [],
   "source": [
    "def get_test_accuracy(threshold=0.85):\n",
    "  positive_distances = []\n",
    "  negative_distances = []\n",
    "\n",
    "  tp = 0\n",
    "  tn = 0\n",
    "  fp = 0\n",
    "  fn = 0\n",
    "\n",
    "  batch_size = 64\n",
    "  x_batch_1 = np.zeros((batch_size, 1, H, W))\n",
    "  x_batch_2 = np.zeros((batch_size, 1, H, W))\n",
    "  n_batches = int(np.ceil(len(test_positives) / batch_size))\n",
    "  for i in range(n_batches):\n",
    "    print(f\"pos batch: {i+1}/{n_batches}\")\n",
    "    pos_batch_indices = test_positives[i * batch_size: (i + 1) * batch_size]\n",
    "\n",
    "    j = 0\n",
    "    for idx1, idx2 in pos_batch_indices:    # fill up x_batch and y_batch\n",
    "      x_batch_1[j,0] = test_images[idx1]\n",
    "      x_batch_2[j,0] = test_images[idx2]\n",
    "      j += 1\n",
    "\n",
    "    x1 = x_batch_1[:j]\n",
    "    x2 = x_batch_2[:j]\n",
    "    distances = predict(x1, x2)\n",
    "    positive_distances += distances.tolist()\n",
    "\n",
    "    tp += (distances < threshold).sum()\n",
    "    fn += (distances > threshold).sum()\n",
    "\n",
    "\n",
    "  n_batches = int(np.ceil(len(test_negatives) / batch_size))\n",
    "\n",
    "  for i in range(n_batches):\n",
    "    print(f\"neg batch: {i+1}/{n_batches}\")\n",
    "    neg_batch_indices = test_negatives[i * batch_size: (i + 1) * batch_size]\n",
    "\n",
    "    j = 0\n",
    "    for idx1, idx2 in neg_batch_indices:    # fill up x_batch and y_batch\n",
    "      x_batch_1[j] = test_images[idx1]\n",
    "      x_batch_2[j] = test_images[idx2]\n",
    "      j += 1\n",
    "\n",
    "    x1 = x_batch_1[:j]\n",
    "    x2 = x_batch_2[:j]\n",
    "    distances = predict(x1, x2)\n",
    "    negative_distances += distances.tolist()\n",
    "\n",
    "    fp += (distances < threshold).sum()\n",
    "    tn += (distances > threshold).sum()\n",
    "\n",
    "\n",
    "  tpr = tp / (tp + fn)\n",
    "  tnr = tn / (tn + fp)\n",
    "\n",
    "  print(f\"sensitivity (tpr): {tpr}, specificity (tnr): {tnr}\")\n",
    "\n",
    "  plt.hist(negative_distances, bins=20, density=True, label='negative_distances')\n",
    "  plt.hist(positive_distances, bins=20, density=True, label='positive_distances')\n",
    "  plt.legend()\n",
    "  plt.show()\n",
    "\n",
    "  "
   ]
  },
  {
   "cell_type": "code",
   "execution_count": null,
   "metadata": {
    "colab": {
     "base_uri": "https://localhost:8080/",
     "height": 1000
    },
    "colab_type": "code",
    "id": "rdoBfjnNNL-y",
    "outputId": "6d304d3c-7a8f-4867-bf6e-cb00eadf06fa"
   },
   "outputs": [
    {
     "name": "stdout",
     "output_type": "stream",
     "text": [
      "pos batch: 1/7\n",
      "pos batch: 2/7\n",
      "pos batch: 3/7\n",
      "pos batch: 4/7\n",
      "pos batch: 5/7\n",
      "pos batch: 6/7\n",
      "pos batch: 7/7\n",
      "neg batch: 1/214\n",
      "neg batch: 2/214\n",
      "neg batch: 3/214\n",
      "neg batch: 4/214\n",
      "neg batch: 5/214\n",
      "neg batch: 6/214\n",
      "neg batch: 7/214\n",
      "neg batch: 8/214\n",
      "neg batch: 9/214\n",
      "neg batch: 10/214\n",
      "neg batch: 11/214\n",
      "neg batch: 12/214\n",
      "neg batch: 13/214\n",
      "neg batch: 14/214\n",
      "neg batch: 15/214\n",
      "neg batch: 16/214\n",
      "neg batch: 17/214\n",
      "neg batch: 18/214\n",
      "neg batch: 19/214\n",
      "neg batch: 20/214\n",
      "neg batch: 21/214\n",
      "neg batch: 22/214\n",
      "neg batch: 23/214\n",
      "neg batch: 24/214\n",
      "neg batch: 25/214\n",
      "neg batch: 26/214\n",
      "neg batch: 27/214\n",
      "neg batch: 28/214\n",
      "neg batch: 29/214\n",
      "neg batch: 30/214\n",
      "neg batch: 31/214\n",
      "neg batch: 32/214\n",
      "neg batch: 33/214\n",
      "neg batch: 34/214\n",
      "neg batch: 35/214\n",
      "neg batch: 36/214\n",
      "neg batch: 37/214\n",
      "neg batch: 38/214\n",
      "neg batch: 39/214\n",
      "neg batch: 40/214\n",
      "neg batch: 41/214\n",
      "neg batch: 42/214\n",
      "neg batch: 43/214\n",
      "neg batch: 44/214\n",
      "neg batch: 45/214\n",
      "neg batch: 46/214\n",
      "neg batch: 47/214\n",
      "neg batch: 48/214\n",
      "neg batch: 49/214\n",
      "neg batch: 50/214\n",
      "neg batch: 51/214\n",
      "neg batch: 52/214\n",
      "neg batch: 53/214\n",
      "neg batch: 54/214\n",
      "neg batch: 55/214\n",
      "neg batch: 56/214\n",
      "neg batch: 57/214\n",
      "neg batch: 58/214\n",
      "neg batch: 59/214\n",
      "neg batch: 60/214\n",
      "neg batch: 61/214\n",
      "neg batch: 62/214\n",
      "neg batch: 63/214\n",
      "neg batch: 64/214\n",
      "neg batch: 65/214\n",
      "neg batch: 66/214\n",
      "neg batch: 67/214\n",
      "neg batch: 68/214\n",
      "neg batch: 69/214\n",
      "neg batch: 70/214\n",
      "neg batch: 71/214\n",
      "neg batch: 72/214\n",
      "neg batch: 73/214\n",
      "neg batch: 74/214\n",
      "neg batch: 75/214\n",
      "neg batch: 76/214\n",
      "neg batch: 77/214\n",
      "neg batch: 78/214\n",
      "neg batch: 79/214\n",
      "neg batch: 80/214\n",
      "neg batch: 81/214\n",
      "neg batch: 82/214\n",
      "neg batch: 83/214\n",
      "neg batch: 84/214\n",
      "neg batch: 85/214\n",
      "neg batch: 86/214\n",
      "neg batch: 87/214\n",
      "neg batch: 88/214\n",
      "neg batch: 89/214\n",
      "neg batch: 90/214\n",
      "neg batch: 91/214\n",
      "neg batch: 92/214\n",
      "neg batch: 93/214\n",
      "neg batch: 94/214\n",
      "neg batch: 95/214\n",
      "neg batch: 96/214\n",
      "neg batch: 97/214\n",
      "neg batch: 98/214\n",
      "neg batch: 99/214\n",
      "neg batch: 100/214\n",
      "neg batch: 101/214\n",
      "neg batch: 102/214\n",
      "neg batch: 103/214\n",
      "neg batch: 104/214\n",
      "neg batch: 105/214\n",
      "neg batch: 106/214\n",
      "neg batch: 107/214\n",
      "neg batch: 108/214\n",
      "neg batch: 109/214\n",
      "neg batch: 110/214\n",
      "neg batch: 111/214\n",
      "neg batch: 112/214\n",
      "neg batch: 113/214\n",
      "neg batch: 114/214\n",
      "neg batch: 115/214\n",
      "neg batch: 116/214\n",
      "neg batch: 117/214\n",
      "neg batch: 118/214\n",
      "neg batch: 119/214\n",
      "neg batch: 120/214\n",
      "neg batch: 121/214\n",
      "neg batch: 122/214\n",
      "neg batch: 123/214\n",
      "neg batch: 124/214\n",
      "neg batch: 125/214\n",
      "neg batch: 126/214\n",
      "neg batch: 127/214\n",
      "neg batch: 128/214\n",
      "neg batch: 129/214\n",
      "neg batch: 130/214\n",
      "neg batch: 131/214\n",
      "neg batch: 132/214\n",
      "neg batch: 133/214\n",
      "neg batch: 134/214\n",
      "neg batch: 135/214\n",
      "neg batch: 136/214\n",
      "neg batch: 137/214\n",
      "neg batch: 138/214\n",
      "neg batch: 139/214\n",
      "neg batch: 140/214\n",
      "neg batch: 141/214\n",
      "neg batch: 142/214\n",
      "neg batch: 143/214\n",
      "neg batch: 144/214\n",
      "neg batch: 145/214\n",
      "neg batch: 146/214\n",
      "neg batch: 147/214\n",
      "neg batch: 148/214\n",
      "neg batch: 149/214\n",
      "neg batch: 150/214\n",
      "neg batch: 151/214\n",
      "neg batch: 152/214\n",
      "neg batch: 153/214\n",
      "neg batch: 154/214\n",
      "neg batch: 155/214\n",
      "neg batch: 156/214\n",
      "neg batch: 157/214\n",
      "neg batch: 158/214\n",
      "neg batch: 159/214\n",
      "neg batch: 160/214\n",
      "neg batch: 161/214\n",
      "neg batch: 162/214\n",
      "neg batch: 163/214\n",
      "neg batch: 164/214\n",
      "neg batch: 165/214\n",
      "neg batch: 166/214\n",
      "neg batch: 167/214\n",
      "neg batch: 168/214\n",
      "neg batch: 169/214\n",
      "neg batch: 170/214\n",
      "neg batch: 171/214\n",
      "neg batch: 172/214\n",
      "neg batch: 173/214\n",
      "neg batch: 174/214\n",
      "neg batch: 175/214\n",
      "neg batch: 176/214\n",
      "neg batch: 177/214\n",
      "neg batch: 178/214\n",
      "neg batch: 179/214\n",
      "neg batch: 180/214\n",
      "neg batch: 181/214\n",
      "neg batch: 182/214\n",
      "neg batch: 183/214\n",
      "neg batch: 184/214\n",
      "neg batch: 185/214\n",
      "neg batch: 186/214\n",
      "neg batch: 187/214\n",
      "neg batch: 188/214\n",
      "neg batch: 189/214\n",
      "neg batch: 190/214\n",
      "neg batch: 191/214\n",
      "neg batch: 192/214\n",
      "neg batch: 193/214\n",
      "neg batch: 194/214\n",
      "neg batch: 195/214\n",
      "neg batch: 196/214\n",
      "neg batch: 197/214\n",
      "neg batch: 198/214\n",
      "neg batch: 199/214\n",
      "neg batch: 200/214\n",
      "neg batch: 201/214\n",
      "neg batch: 202/214\n",
      "neg batch: 203/214\n",
      "neg batch: 204/214\n",
      "neg batch: 205/214\n",
      "neg batch: 206/214\n",
      "neg batch: 207/214\n",
      "neg batch: 208/214\n",
      "neg batch: 209/214\n",
      "neg batch: 210/214\n",
      "neg batch: 211/214\n",
      "neg batch: 212/214\n",
      "neg batch: 213/214\n",
      "neg batch: 214/214\n",
      "sensitivity (tpr): 1.0, specificity (tnr): 0.9904859484777517\n"
     ]
    },
    {
     "data": {
      "image/png": "[encoded data removed]",
      "text/plain": [
       "<Figure size 432x288 with 1 Axes>"
      ]
     },
     "metadata": {
      "tags": []
     },
     "output_type": "display_data"
    }
   ],
   "source": [
    "get_train_accuracy(0.65)"
   ]
  },
  {
   "cell_type": "code",
   "execution_count": null,
   "metadata": {
    "colab": {
     "base_uri": "https://localhost:8080/",
     "height": 829
    },
    "colab_type": "code",
    "id": "4R4hruKENQgb",
    "outputId": "a152ef25-188c-47d9-94d1-cd0d3572de94"
   },
   "outputs": [
    {
     "name": "stdout",
     "output_type": "stream",
     "text": [
      "pos batch: 1/1\n",
      "neg batch: 1/30\n",
      "neg batch: 2/30\n",
      "neg batch: 3/30\n",
      "neg batch: 4/30\n",
      "neg batch: 5/30\n",
      "neg batch: 6/30\n",
      "neg batch: 7/30\n",
      "neg batch: 8/30\n",
      "neg batch: 9/30\n",
      "neg batch: 10/30\n",
      "neg batch: 11/30\n",
      "neg batch: 12/30\n",
      "neg batch: 13/30\n",
      "neg batch: 14/30\n",
      "neg batch: 15/30\n",
      "neg batch: 16/30\n",
      "neg batch: 17/30\n",
      "neg batch: 18/30\n",
      "neg batch: 19/30\n",
      "neg batch: 20/30\n",
      "neg batch: 21/30\n",
      "neg batch: 22/30\n",
      "neg batch: 23/30\n",
      "neg batch: 24/30\n",
      "neg batch: 25/30\n",
      "neg batch: 26/30\n",
      "neg batch: 27/30\n",
      "neg batch: 28/30\n",
      "neg batch: 29/30\n",
      "neg batch: 30/30\n",
      "sensitivity (tpr): 0.9333333333333333, specificity (tnr): 0.9513227513227513\n"
     ]
    },
    {
     "data": {
      "image/png": "[encoded data removed]",
      "text/plain": [
       "<Figure size 432x288 with 1 Axes>"
      ]
     },
     "metadata": {
      "tags": []
     },
     "output_type": "display_data"
    }
   ],
   "source": [
    "get_test_accuracy(0.65)"
   ]
  }
 ],
 "metadata": {
  "accelerator": "GPU",
  "colab": {
   "collapsed_sections": [],
   "name": "PyTorch Siamese Networks.ipynb",
   "provenance": []
  },
  "kernelspec": {
   "display_name": "Python 3 (ipykernel)",
   "language": "python",
   "name": "python3"
  },
  "language_info": {
   "codemirror_mode": {
    "name": "ipython",
    "version": 3
   },
   "file_extension": ".py",
   "mimetype": "text/x-python",
   "name": "python",
   "nbconvert_exporter": "python",
   "pygments_lexer": "ipython3",
   "version": "3.8.8"
  }
 },
 "nbformat": 4,
 "nbformat_minor": 1
}
